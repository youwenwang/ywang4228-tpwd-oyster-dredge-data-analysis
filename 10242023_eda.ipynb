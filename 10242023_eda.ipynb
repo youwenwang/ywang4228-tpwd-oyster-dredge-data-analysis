{
  "nbformat": 4,
  "nbformat_minor": 0,
  "metadata": {
    "colab": {
      "provenance": [],
      "authorship_tag": "ABX9TyOjfr05XG3ADB2cohykMKVa",
      "include_colab_link": true
    },
    "kernelspec": {
      "name": "python3",
      "display_name": "Python 3"
    },
    "language_info": {
      "name": "python"
    }
  },
  "cells": [
    {
      "cell_type": "markdown",
      "metadata": {
        "id": "view-in-github",
        "colab_type": "text"
      },
      "source": [
        "<a href=\"https://colab.research.google.com/github/youwenwang/ywang4228-tpwd-oyster-dredge-data-analysis/blob/main/10242023_eda.ipynb\" target=\"_parent\"><img src=\"https://colab.research.google.com/assets/colab-badge.svg\" alt=\"Open In Colab\"/></a>"
      ]
    },
    {
      "cell_type": "markdown",
      "source": [
        "# Contents\n",
        "1. [Load Dataset](#-1.-Load-Dataset)\n",
        "2. [Define EDA Workflow](#-2.-Define-EDA-Workflow)\n",
        "3. [Bay-wise Analysis](#-3.-Bay-wise-Analysis)\n",
        "\n",
        "*   3.1 [ARANSAS BAY](##-3.1-ARANSAS-BAY)\n",
        "*   3.2 [SAN ANTONIO BAY](##-3.2-SAN-ANTONIO-BAY)\n",
        "*   3.3 [GALVESTON BAY](##-3.3-GALVESTON-BAY)\n",
        "*   3.4 [MATAGORDA BAY](##-3.4-MATAGORDA-BAY)\n",
        "*   3.5 [SABINE LAKE](##-3.5-SABINE-LAKE)"
      ],
      "metadata": {
        "id": "7vrXCsZhsWiN"
      }
    },
    {
      "cell_type": "markdown",
      "source": [
        "# 1. Load Dataset\n",
        "\n",
        "return to [Table of Contents](#-Contents)"
      ],
      "metadata": {
        "id": "y8vfoOz_j48x"
      }
    },
    {
      "cell_type": "code",
      "execution_count": null,
      "metadata": {
        "colab": {
          "base_uri": "https://localhost:8080/"
        },
        "id": "TzxfVxE0bKnn",
        "outputId": "06e691ec-38e5-43a9-aff4-7aa7e2265012"
      },
      "outputs": [
        {
          "output_type": "stream",
          "name": "stdout",
          "text": [
            "Mounted at /content/drive\n"
          ]
        }
      ],
      "source": [
        "from google.colab import drive\n",
        "drive.mount('/content/drive')"
      ]
    },
    {
      "cell_type": "code",
      "source": [
        "%cd drive/MyDrive/CS/wyw/research/Oyster/bay_wise"
      ],
      "metadata": {
        "colab": {
          "base_uri": "https://localhost:8080/"
        },
        "id": "WIzXOP9xcED1",
        "outputId": "4bed9500-7cc1-4a6e-ca9b-afc8127cfeb6"
      },
      "execution_count": null,
      "outputs": [
        {
          "output_type": "stream",
          "name": "stdout",
          "text": [
            "/content/drive/MyDrive/CS/wyw/research/Oyster/bay_wise\n"
          ]
        }
      ]
    },
    {
      "cell_type": "code",
      "source": [
        "import os\n",
        "import time\n",
        "import pandas as pd\n",
        "import numpy as np\n",
        "import matplotlib.pyplot as plt\n",
        "%matplotlib inline"
      ],
      "metadata": {
        "id": "gFTYXqwjcH_K"
      },
      "execution_count": null,
      "outputs": []
    },
    {
      "cell_type": "code",
      "source": [
        "df = pd.read_parquet('data/oyster_expanded.parquet', engine='pyarrow')"
      ],
      "metadata": {
        "id": "98Wt8_olj7mj"
      },
      "execution_count": null,
      "outputs": []
    },
    {
      "cell_type": "code",
      "source": [
        "df.head()"
      ],
      "metadata": {
        "colab": {
          "base_uri": "https://localhost:8080/",
          "height": 430
        },
        "id": "Y9jFWeBJj-nO",
        "outputId": "e3838994-524a-448b-bdb4-f9224bbfc3d9"
      },
      "execution_count": null,
      "outputs": [
        {
          "output_type": "execute_result",
          "data": {
            "text/plain": [
              "  gear_stratum_code_text major_area_code_text minor_bay_code_text  \\\n",
              "0          oyster dredge      SAN ANTONIO BAY     San Antonio Bay   \n",
              "1          oyster dredge      SAN ANTONIO BAY     San Antonio Bay   \n",
              "2          oyster dredge      SAN ANTONIO BAY     San Antonio Bay   \n",
              "3          oyster dredge      SAN ANTONIO BAY     San Antonio Bay   \n",
              "4          oyster dredge      SAN ANTONIO BAY     San Antonio Bay   \n",
              "\n",
              "   station_code  Species_code Species_code_text  shallow_depth  temp   DO  \\\n",
              "0            54        9300.0    Eastern oyster            0.5  16.7  8.9   \n",
              "1            54        9300.0    Eastern oyster            0.5  16.7  8.9   \n",
              "2            54        9300.0    Eastern oyster            0.5  16.7  8.9   \n",
              "3            54        9300.0    Eastern oyster            0.5  16.7  8.9   \n",
              "4            54        9300.0    Eastern oyster            0.5  16.7  8.9   \n",
              "\n",
              "   salinity  ...  live_dead  spat   latitude  longitude       Date  Year  \\\n",
              "0       9.9  ...        1.0   0.0  28.381944 -96.744444 1986-01-02  1986   \n",
              "1       9.9  ...        1.0   0.0  28.381944 -96.744444 1986-01-02  1986   \n",
              "2       9.9  ...        1.0   0.0  28.381944 -96.744444 1986-01-02  1986   \n",
              "3       9.9  ...        1.0   0.0  28.381944 -96.744444 1986-01-02  1986   \n",
              "4       9.9  ...        1.0   0.0  28.381944 -96.744444 1986-01-02  1986   \n",
              "\n",
              "   gear_size  length_code user_def_header_field  HYDRO_ID  \n",
              "0        NaN         None                     1       NaN  \n",
              "1        NaN         None                     1       NaN  \n",
              "2        NaN         None                     1       NaN  \n",
              "3        NaN         None                     1       NaN  \n",
              "4        NaN         None                     1       NaN  \n",
              "\n",
              "[5 rows x 24 columns]"
            ],
            "text/html": [
              "\n",
              "  <div id=\"df-6b4beca8-d1cc-4bbd-bbf0-c28d9823157e\" class=\"colab-df-container\">\n",
              "    <div>\n",
              "<style scoped>\n",
              "    .dataframe tbody tr th:only-of-type {\n",
              "        vertical-align: middle;\n",
              "    }\n",
              "\n",
              "    .dataframe tbody tr th {\n",
              "        vertical-align: top;\n",
              "    }\n",
              "\n",
              "    .dataframe thead th {\n",
              "        text-align: right;\n",
              "    }\n",
              "</style>\n",
              "<table border=\"1\" class=\"dataframe\">\n",
              "  <thead>\n",
              "    <tr style=\"text-align: right;\">\n",
              "      <th></th>\n",
              "      <th>gear_stratum_code_text</th>\n",
              "      <th>major_area_code_text</th>\n",
              "      <th>minor_bay_code_text</th>\n",
              "      <th>station_code</th>\n",
              "      <th>Species_code</th>\n",
              "      <th>Species_code_text</th>\n",
              "      <th>shallow_depth</th>\n",
              "      <th>temp</th>\n",
              "      <th>DO</th>\n",
              "      <th>salinity</th>\n",
              "      <th>...</th>\n",
              "      <th>live_dead</th>\n",
              "      <th>spat</th>\n",
              "      <th>latitude</th>\n",
              "      <th>longitude</th>\n",
              "      <th>Date</th>\n",
              "      <th>Year</th>\n",
              "      <th>gear_size</th>\n",
              "      <th>length_code</th>\n",
              "      <th>user_def_header_field</th>\n",
              "      <th>HYDRO_ID</th>\n",
              "    </tr>\n",
              "  </thead>\n",
              "  <tbody>\n",
              "    <tr>\n",
              "      <th>0</th>\n",
              "      <td>oyster dredge</td>\n",
              "      <td>SAN ANTONIO BAY</td>\n",
              "      <td>San Antonio Bay</td>\n",
              "      <td>54</td>\n",
              "      <td>9300.0</td>\n",
              "      <td>Eastern oyster</td>\n",
              "      <td>0.5</td>\n",
              "      <td>16.7</td>\n",
              "      <td>8.9</td>\n",
              "      <td>9.9</td>\n",
              "      <td>...</td>\n",
              "      <td>1.0</td>\n",
              "      <td>0.0</td>\n",
              "      <td>28.381944</td>\n",
              "      <td>-96.744444</td>\n",
              "      <td>1986-01-02</td>\n",
              "      <td>1986</td>\n",
              "      <td>NaN</td>\n",
              "      <td>None</td>\n",
              "      <td>1</td>\n",
              "      <td>NaN</td>\n",
              "    </tr>\n",
              "    <tr>\n",
              "      <th>1</th>\n",
              "      <td>oyster dredge</td>\n",
              "      <td>SAN ANTONIO BAY</td>\n",
              "      <td>San Antonio Bay</td>\n",
              "      <td>54</td>\n",
              "      <td>9300.0</td>\n",
              "      <td>Eastern oyster</td>\n",
              "      <td>0.5</td>\n",
              "      <td>16.7</td>\n",
              "      <td>8.9</td>\n",
              "      <td>9.9</td>\n",
              "      <td>...</td>\n",
              "      <td>1.0</td>\n",
              "      <td>0.0</td>\n",
              "      <td>28.381944</td>\n",
              "      <td>-96.744444</td>\n",
              "      <td>1986-01-02</td>\n",
              "      <td>1986</td>\n",
              "      <td>NaN</td>\n",
              "      <td>None</td>\n",
              "      <td>1</td>\n",
              "      <td>NaN</td>\n",
              "    </tr>\n",
              "    <tr>\n",
              "      <th>2</th>\n",
              "      <td>oyster dredge</td>\n",
              "      <td>SAN ANTONIO BAY</td>\n",
              "      <td>San Antonio Bay</td>\n",
              "      <td>54</td>\n",
              "      <td>9300.0</td>\n",
              "      <td>Eastern oyster</td>\n",
              "      <td>0.5</td>\n",
              "      <td>16.7</td>\n",
              "      <td>8.9</td>\n",
              "      <td>9.9</td>\n",
              "      <td>...</td>\n",
              "      <td>1.0</td>\n",
              "      <td>0.0</td>\n",
              "      <td>28.381944</td>\n",
              "      <td>-96.744444</td>\n",
              "      <td>1986-01-02</td>\n",
              "      <td>1986</td>\n",
              "      <td>NaN</td>\n",
              "      <td>None</td>\n",
              "      <td>1</td>\n",
              "      <td>NaN</td>\n",
              "    </tr>\n",
              "    <tr>\n",
              "      <th>3</th>\n",
              "      <td>oyster dredge</td>\n",
              "      <td>SAN ANTONIO BAY</td>\n",
              "      <td>San Antonio Bay</td>\n",
              "      <td>54</td>\n",
              "      <td>9300.0</td>\n",
              "      <td>Eastern oyster</td>\n",
              "      <td>0.5</td>\n",
              "      <td>16.7</td>\n",
              "      <td>8.9</td>\n",
              "      <td>9.9</td>\n",
              "      <td>...</td>\n",
              "      <td>1.0</td>\n",
              "      <td>0.0</td>\n",
              "      <td>28.381944</td>\n",
              "      <td>-96.744444</td>\n",
              "      <td>1986-01-02</td>\n",
              "      <td>1986</td>\n",
              "      <td>NaN</td>\n",
              "      <td>None</td>\n",
              "      <td>1</td>\n",
              "      <td>NaN</td>\n",
              "    </tr>\n",
              "    <tr>\n",
              "      <th>4</th>\n",
              "      <td>oyster dredge</td>\n",
              "      <td>SAN ANTONIO BAY</td>\n",
              "      <td>San Antonio Bay</td>\n",
              "      <td>54</td>\n",
              "      <td>9300.0</td>\n",
              "      <td>Eastern oyster</td>\n",
              "      <td>0.5</td>\n",
              "      <td>16.7</td>\n",
              "      <td>8.9</td>\n",
              "      <td>9.9</td>\n",
              "      <td>...</td>\n",
              "      <td>1.0</td>\n",
              "      <td>0.0</td>\n",
              "      <td>28.381944</td>\n",
              "      <td>-96.744444</td>\n",
              "      <td>1986-01-02</td>\n",
              "      <td>1986</td>\n",
              "      <td>NaN</td>\n",
              "      <td>None</td>\n",
              "      <td>1</td>\n",
              "      <td>NaN</td>\n",
              "    </tr>\n",
              "  </tbody>\n",
              "</table>\n",
              "<p>5 rows × 24 columns</p>\n",
              "</div>\n",
              "    <div class=\"colab-df-buttons\">\n",
              "\n",
              "  <div class=\"colab-df-container\">\n",
              "    <button class=\"colab-df-convert\" onclick=\"convertToInteractive('df-6b4beca8-d1cc-4bbd-bbf0-c28d9823157e')\"\n",
              "            title=\"Convert this dataframe to an interactive table.\"\n",
              "            style=\"display:none;\">\n",
              "\n",
              "  <svg xmlns=\"http://www.w3.org/2000/svg\" height=\"24px\" viewBox=\"0 -960 960 960\">\n",
              "    <path d=\"M120-120v-720h720v720H120Zm60-500h600v-160H180v160Zm220 220h160v-160H400v160Zm0 220h160v-160H400v160ZM180-400h160v-160H180v160Zm440 0h160v-160H620v160ZM180-180h160v-160H180v160Zm440 0h160v-160H620v160Z\"/>\n",
              "  </svg>\n",
              "    </button>\n",
              "\n",
              "  <style>\n",
              "    .colab-df-container {\n",
              "      display:flex;\n",
              "      gap: 12px;\n",
              "    }\n",
              "\n",
              "    .colab-df-convert {\n",
              "      background-color: #E8F0FE;\n",
              "      border: none;\n",
              "      border-radius: 50%;\n",
              "      cursor: pointer;\n",
              "      display: none;\n",
              "      fill: #1967D2;\n",
              "      height: 32px;\n",
              "      padding: 0 0 0 0;\n",
              "      width: 32px;\n",
              "    }\n",
              "\n",
              "    .colab-df-convert:hover {\n",
              "      background-color: #E2EBFA;\n",
              "      box-shadow: 0px 1px 2px rgba(60, 64, 67, 0.3), 0px 1px 3px 1px rgba(60, 64, 67, 0.15);\n",
              "      fill: #174EA6;\n",
              "    }\n",
              "\n",
              "    .colab-df-buttons div {\n",
              "      margin-bottom: 4px;\n",
              "    }\n",
              "\n",
              "    [theme=dark] .colab-df-convert {\n",
              "      background-color: #3B4455;\n",
              "      fill: #D2E3FC;\n",
              "    }\n",
              "\n",
              "    [theme=dark] .colab-df-convert:hover {\n",
              "      background-color: #434B5C;\n",
              "      box-shadow: 0px 1px 3px 1px rgba(0, 0, 0, 0.15);\n",
              "      filter: drop-shadow(0px 1px 2px rgba(0, 0, 0, 0.3));\n",
              "      fill: #FFFFFF;\n",
              "    }\n",
              "  </style>\n",
              "\n",
              "    <script>\n",
              "      const buttonEl =\n",
              "        document.querySelector('#df-6b4beca8-d1cc-4bbd-bbf0-c28d9823157e button.colab-df-convert');\n",
              "      buttonEl.style.display =\n",
              "        google.colab.kernel.accessAllowed ? 'block' : 'none';\n",
              "\n",
              "      async function convertToInteractive(key) {\n",
              "        const element = document.querySelector('#df-6b4beca8-d1cc-4bbd-bbf0-c28d9823157e');\n",
              "        const dataTable =\n",
              "          await google.colab.kernel.invokeFunction('convertToInteractive',\n",
              "                                                    [key], {});\n",
              "        if (!dataTable) return;\n",
              "\n",
              "        const docLinkHtml = 'Like what you see? Visit the ' +\n",
              "          '<a target=\"_blank\" href=https://colab.research.google.com/notebooks/data_table.ipynb>data table notebook</a>'\n",
              "          + ' to learn more about interactive tables.';\n",
              "        element.innerHTML = '';\n",
              "        dataTable['output_type'] = 'display_data';\n",
              "        await google.colab.output.renderOutput(dataTable, element);\n",
              "        const docLink = document.createElement('div');\n",
              "        docLink.innerHTML = docLinkHtml;\n",
              "        element.appendChild(docLink);\n",
              "      }\n",
              "    </script>\n",
              "  </div>\n",
              "\n",
              "\n",
              "<div id=\"df-33b82740-60e4-42c7-97f9-6c53522bdf00\">\n",
              "  <button class=\"colab-df-quickchart\" onclick=\"quickchart('df-33b82740-60e4-42c7-97f9-6c53522bdf00')\"\n",
              "            title=\"Suggest charts.\"\n",
              "            style=\"display:none;\">\n",
              "\n",
              "<svg xmlns=\"http://www.w3.org/2000/svg\" height=\"24px\"viewBox=\"0 0 24 24\"\n",
              "     width=\"24px\">\n",
              "    <g>\n",
              "        <path d=\"M19 3H5c-1.1 0-2 .9-2 2v14c0 1.1.9 2 2 2h14c1.1 0 2-.9 2-2V5c0-1.1-.9-2-2-2zM9 17H7v-7h2v7zm4 0h-2V7h2v10zm4 0h-2v-4h2v4z\"/>\n",
              "    </g>\n",
              "</svg>\n",
              "  </button>\n",
              "\n",
              "<style>\n",
              "  .colab-df-quickchart {\n",
              "      --bg-color: #E8F0FE;\n",
              "      --fill-color: #1967D2;\n",
              "      --hover-bg-color: #E2EBFA;\n",
              "      --hover-fill-color: #174EA6;\n",
              "      --disabled-fill-color: #AAA;\n",
              "      --disabled-bg-color: #DDD;\n",
              "  }\n",
              "\n",
              "  [theme=dark] .colab-df-quickchart {\n",
              "      --bg-color: #3B4455;\n",
              "      --fill-color: #D2E3FC;\n",
              "      --hover-bg-color: #434B5C;\n",
              "      --hover-fill-color: #FFFFFF;\n",
              "      --disabled-bg-color: #3B4455;\n",
              "      --disabled-fill-color: #666;\n",
              "  }\n",
              "\n",
              "  .colab-df-quickchart {\n",
              "    background-color: var(--bg-color);\n",
              "    border: none;\n",
              "    border-radius: 50%;\n",
              "    cursor: pointer;\n",
              "    display: none;\n",
              "    fill: var(--fill-color);\n",
              "    height: 32px;\n",
              "    padding: 0;\n",
              "    width: 32px;\n",
              "  }\n",
              "\n",
              "  .colab-df-quickchart:hover {\n",
              "    background-color: var(--hover-bg-color);\n",
              "    box-shadow: 0 1px 2px rgba(60, 64, 67, 0.3), 0 1px 3px 1px rgba(60, 64, 67, 0.15);\n",
              "    fill: var(--button-hover-fill-color);\n",
              "  }\n",
              "\n",
              "  .colab-df-quickchart-complete:disabled,\n",
              "  .colab-df-quickchart-complete:disabled:hover {\n",
              "    background-color: var(--disabled-bg-color);\n",
              "    fill: var(--disabled-fill-color);\n",
              "    box-shadow: none;\n",
              "  }\n",
              "\n",
              "  .colab-df-spinner {\n",
              "    border: 2px solid var(--fill-color);\n",
              "    border-color: transparent;\n",
              "    border-bottom-color: var(--fill-color);\n",
              "    animation:\n",
              "      spin 1s steps(1) infinite;\n",
              "  }\n",
              "\n",
              "  @keyframes spin {\n",
              "    0% {\n",
              "      border-color: transparent;\n",
              "      border-bottom-color: var(--fill-color);\n",
              "      border-left-color: var(--fill-color);\n",
              "    }\n",
              "    20% {\n",
              "      border-color: transparent;\n",
              "      border-left-color: var(--fill-color);\n",
              "      border-top-color: var(--fill-color);\n",
              "    }\n",
              "    30% {\n",
              "      border-color: transparent;\n",
              "      border-left-color: var(--fill-color);\n",
              "      border-top-color: var(--fill-color);\n",
              "      border-right-color: var(--fill-color);\n",
              "    }\n",
              "    40% {\n",
              "      border-color: transparent;\n",
              "      border-right-color: var(--fill-color);\n",
              "      border-top-color: var(--fill-color);\n",
              "    }\n",
              "    60% {\n",
              "      border-color: transparent;\n",
              "      border-right-color: var(--fill-color);\n",
              "    }\n",
              "    80% {\n",
              "      border-color: transparent;\n",
              "      border-right-color: var(--fill-color);\n",
              "      border-bottom-color: var(--fill-color);\n",
              "    }\n",
              "    90% {\n",
              "      border-color: transparent;\n",
              "      border-bottom-color: var(--fill-color);\n",
              "    }\n",
              "  }\n",
              "</style>\n",
              "\n",
              "  <script>\n",
              "    async function quickchart(key) {\n",
              "      const quickchartButtonEl =\n",
              "        document.querySelector('#' + key + ' button');\n",
              "      quickchartButtonEl.disabled = true;  // To prevent multiple clicks.\n",
              "      quickchartButtonEl.classList.add('colab-df-spinner');\n",
              "      try {\n",
              "        const charts = await google.colab.kernel.invokeFunction(\n",
              "            'suggestCharts', [key], {});\n",
              "      } catch (error) {\n",
              "        console.error('Error during call to suggestCharts:', error);\n",
              "      }\n",
              "      quickchartButtonEl.classList.remove('colab-df-spinner');\n",
              "      quickchartButtonEl.classList.add('colab-df-quickchart-complete');\n",
              "    }\n",
              "    (() => {\n",
              "      let quickchartButtonEl =\n",
              "        document.querySelector('#df-33b82740-60e4-42c7-97f9-6c53522bdf00 button');\n",
              "      quickchartButtonEl.style.display =\n",
              "        google.colab.kernel.accessAllowed ? 'block' : 'none';\n",
              "    })();\n",
              "  </script>\n",
              "</div>\n",
              "\n",
              "    </div>\n",
              "  </div>\n"
            ]
          },
          "metadata": {},
          "execution_count": 7
        },
        {
          "output_type": "stream",
          "name": "stdout",
          "text": [
            "Warning: Total number of columns (24) exceeds max_columns (20) limiting to first (20) columns.\n"
          ]
        }
      ]
    },
    {
      "cell_type": "code",
      "source": [
        "df.columns"
      ],
      "metadata": {
        "colab": {
          "base_uri": "https://localhost:8080/"
        },
        "id": "e3jYmAJMor1W",
        "outputId": "fd93a33a-7e0a-4d34-e493-e3d79317f1b7"
      },
      "execution_count": null,
      "outputs": [
        {
          "output_type": "execute_result",
          "data": {
            "text/plain": [
              "Index(['gear_stratum_code_text', 'major_area_code_text', 'minor_bay_code_text',\n",
              "       'station_code', 'Species_code', 'Species_code_text', 'shallow_depth',\n",
              "       'temp', 'DO', 'salinity', 'turbidity', 'number_sampled', 'length',\n",
              "       'stage', 'live_dead', 'spat', 'latitude', 'longitude', 'Date', 'Year',\n",
              "       'gear_size', 'length_code', 'user_def_header_field', 'HYDRO_ID'],\n",
              "      dtype='object')"
            ]
          },
          "metadata": {},
          "execution_count": 8
        }
      ]
    },
    {
      "cell_type": "markdown",
      "source": [
        "# 2. Define EDA Workflow\n",
        "\n",
        "return to [Table of Contents](#-Contents)"
      ],
      "metadata": {
        "id": "z44VOUEreqeB"
      }
    },
    {
      "cell_type": "code",
      "source": [],
      "metadata": {
        "id": "_qa_AdG7eu23"
      },
      "execution_count": null,
      "outputs": []
    },
    {
      "cell_type": "markdown",
      "source": [
        "# 3. Bay-wise Analysis\n",
        "\n",
        "return to [Table of Contents](#-Contents)"
      ],
      "metadata": {
        "id": "DZMRqn9ruz_T"
      }
    },
    {
      "cell_type": "markdown",
      "source": [
        "## 3.1 ARANSAS BAY\n",
        "\n",
        "return to [Table of Contents](#-Contents)"
      ],
      "metadata": {
        "id": "NS_0ALdMed2F"
      }
    },
    {
      "cell_type": "code",
      "source": [],
      "metadata": {
        "id": "Vnp-W_1JehQq"
      },
      "execution_count": null,
      "outputs": []
    },
    {
      "cell_type": "markdown",
      "source": [
        "## 3.2 SAN ANTONIO BAY\n",
        "\n",
        "return to [Table of Contents](#-Contents)"
      ],
      "metadata": {
        "id": "vAOXWeguePZB"
      }
    },
    {
      "cell_type": "code",
      "source": [],
      "metadata": {
        "id": "AN-58u8JeLVg"
      },
      "execution_count": null,
      "outputs": []
    },
    {
      "cell_type": "markdown",
      "source": [
        "## 3.3 GALVESTON BAY\n",
        "\n",
        "return to [Table of Contents](#-Contents)"
      ],
      "metadata": {
        "id": "dSgjKUTDeUV0"
      }
    },
    {
      "cell_type": "code",
      "source": [],
      "metadata": {
        "id": "X5B9Dp2eeVp8"
      },
      "execution_count": null,
      "outputs": []
    },
    {
      "cell_type": "markdown",
      "source": [
        "## 3.4 MATAGORDA BAY\n",
        "\n",
        "return to [Table of Contents](#-Contents)"
      ],
      "metadata": {
        "id": "Koa8NyXIeYKs"
      }
    },
    {
      "cell_type": "code",
      "source": [],
      "metadata": {
        "id": "XEo_YQhHeZhe"
      },
      "execution_count": null,
      "outputs": []
    },
    {
      "cell_type": "markdown",
      "source": [
        "## 3.5 SABINE LAKE\n",
        "\n",
        "return to [Table of Contents](#-Contents)"
      ],
      "metadata": {
        "id": "KQh9AA5becV1"
      }
    },
    {
      "cell_type": "code",
      "source": [],
      "metadata": {
        "id": "xGo9YqNhedVY"
      },
      "execution_count": null,
      "outputs": []
    }
  ]
}